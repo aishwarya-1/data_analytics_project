{
 "cells": [
  {
   "cell_type": "code",
   "execution_count": 1,
   "metadata": {
    "colab": {
     "base_uri": "https://localhost:8080/",
     "height": 156
    },
    "colab_type": "code",
    "id": "1ovZW0Gmochv",
    "outputId": "ac1328be-9ac8-4ab8-a40f-de6f22cf7ab9"
   },
   "outputs": [
    {
     "name": "stdout",
     "output_type": "stream",
     "text": [
      "Cloning into 'data_analytics_project-1'...\n",
      "remote: Enumerating objects: 111, done.\u001b[K\n",
      "remote: Counting objects: 100% (111/111), done.\u001b[K\n",
      "remote: Compressing objects: 100% (81/81), done.\u001b[K\n",
      "remote: Total 111 (delta 42), reused 93 (delta 28), pack-reused 0\u001b[K\n",
      "Receiving objects: 100% (111/111), 14.52 MiB | 5.38 MiB/s, done.\n",
      "Resolving deltas: 100% (42/42), done.\n",
      "/content/data_analytics_project-1\n"
     ]
    }
   ],
   "source": [
    "# to run the code on google colab, uncomment the following lines\n",
    "!git clone https://github.com/reddybhargava/data_analytics_project-1.git\n",
    "%cd /content/data_analytics_project-1"
   ]
  },
  {
   "cell_type": "markdown",
   "metadata": {
    "colab_type": "text",
    "id": "fnemyMbgi6ql"
   },
   "source": [
    "## Importing Libraries"
   ]
  },
  {
   "cell_type": "code",
   "execution_count": 2,
   "metadata": {
    "colab": {
     "base_uri": "https://localhost:8080/",
     "height": 72
    },
    "colab_type": "code",
    "id": "XYuiqwfJi6qr",
    "outputId": "30b9bf3e-dcc8-451b-a94b-92fe9093af75"
   },
   "outputs": [
    {
     "name": "stderr",
     "output_type": "stream",
     "text": [
      "/usr/local/lib/python3.6/dist-packages/sklearn/externals/six.py:31: DeprecationWarning: The module is deprecated in version 0.21 and will be removed in version 0.23 since we've dropped support for Python 2.7. Please rely on the official version of six (https://pypi.org/project/six/).\n",
      "  \"(https://pypi.org/project/six/).\", DeprecationWarning)\n"
     ]
    }
   ],
   "source": [
    "import numpy as np \n",
    "import pandas as pd\n",
    "from sklearn.model_selection import train_test_split\n",
    "from sklearn.utils import resample\n",
    "from sklearn.metrics import classification_report\n",
    "from imblearn.over_sampling import SMOTE\n",
    "from imblearn.over_sampling import ADASYN\n",
    "from functions import xgboost_classifier\n",
    "from functions import print_confusion_matrix"
   ]
  },
  {
   "cell_type": "markdown",
   "metadata": {
    "colab_type": "text",
    "id": "cWLTnH8Ti6q6"
   },
   "source": [
    "## Importing the modified dataset"
   ]
  },
  {
   "cell_type": "code",
   "execution_count": 0,
   "metadata": {
    "colab": {},
    "colab_type": "code",
    "id": "CJnH9cWLi6q7"
   },
   "outputs": [],
   "source": [
    "path = '/content/data_analytics_project-1/dataset_modified/'\n",
    "train_values = pd.read_csv(path +'train_values.csv')\n",
    "train_labels = pd.read_csv(path +'train_labels.csv')\n",
    "test_values = pd.read_csv(path +'test_values.csv')"
   ]
  },
  {
   "cell_type": "markdown",
   "metadata": {
    "colab_type": "text",
    "id": "j9zcKJyJi6rG"
   },
   "source": [
    "# Implementing XGBoost Models\n"
   ]
  },
  {
   "cell_type": "code",
   "execution_count": 0,
   "metadata": {
    "colab": {},
    "colab_type": "code",
    "id": "-oiwYNqYi6rI"
   },
   "outputs": [],
   "source": [
    "# Split dataset into training set and test set\n",
    "X_train, X_test, y_train, y_test = train_test_split(train_values, train_labels['damage_grade'], test_size=0.3, random_state=10) # 70% training and 30% test\n",
    "X_train = X_train.drop(columns = 'building_id')\n",
    "X_test = X_test.drop (columns = 'building_id')"
   ]
  },
  {
   "cell_type": "markdown",
   "metadata": {
    "colab_type": "text",
    "id": "J7-NgzIlGQ4V"
   },
   "source": [
    "## XGBoost"
   ]
  },
  {
   "cell_type": "code",
   "execution_count": 0,
   "metadata": {
    "colab": {},
    "colab_type": "code",
    "id": "OAbdXZXqi6rX"
   },
   "outputs": [],
   "source": [
    "\"\"\"\n",
    "    THE FOLLOWING CODE IS COMMENTED OUT AS IT TAKES A VERY LONG TO EXECUTE ....\n",
    "    The following code does a Random Search on the hyperparameters of the XGBoost Model to optimise the model\n",
    "\"\"\"\n",
    "\n",
    "# from sklearn.model_selection import RandomizedSearchCV\n",
    "# from xgboost import XGBClassifier\n",
    "\n",
    "# params={\n",
    "#  \"learning_rate\"    : [ 0.05, 0.10, 0.15, 0.20, 0.25, 0.30] ,\n",
    "#  \"max_depth\"        : [ 5, 6, 8, 9, 10, 12],\n",
    "#  \"min_child_weight\" : [ 0, 1, 2, 3.5, 5 ],\n",
    "#  \"gamma\"            : [ 0.0, 0.1, 0.25, 0.3, 0.4],\n",
    "#  \"colsample_bytree\" : [ 0.7, 0.75, 0.8, 0.85],\n",
    "#  \"subsample\"        : [ 0.6, 0.7, 0.75, 0.8, 0.85, 0.9],\n",
    "#  \"n_estimators\"     : [ 50, 80, 100]\n",
    "    \n",
    "# }\n",
    "\n",
    "# classifier = XGBClassifier(objective = 'multi:softmax')\n",
    "\n",
    "# random_search = RandomizedSearchCV(classifier, param_distributions=params, n_iter=5, n_jobs=-1, cv=5, verbose=3)\n",
    "# random_search.fit(train_values,train_labels)\n",
    "# print(random_search.best_params_)\n",
    "\n",
    "# # The above code returns the following output of parameters which can further be used for the XGBoost Model\n",
    "\n",
    "# # {\n",
    "# #  'colsample_bytree': 0.8,\n",
    "# #  'gamma': 0.1,\n",
    "# #  'learning_rate': 0.2,      # 'eta' in the model below\n",
    "# #  'max_depth': 10,\n",
    "# #  'min_child_weight': 5,\n",
    "# #  'n_estimators': 100,\n",
    "# #  'subsample': 0.8\n",
    "# # }\n"
   ]
  },
  {
   "cell_type": "code",
   "execution_count": 6,
   "metadata": {
    "colab": {
     "base_uri": "https://localhost:8080/",
     "height": 475
    },
    "colab_type": "code",
    "id": "5_BIPpMlp9nw",
    "outputId": "687cac09-1db0-4eb8-8dd6-259c85c6c0a8"
   },
   "outputs": [
    {
     "name": "stdout",
     "output_type": "stream",
     "text": [
      "Accuracy of XGBoostClassifier: 0.7444775584860772\n"
     ]
    },
    {
     "data": {
      "image/png": "[encoded data removed]",
      "text/plain": [
       "<Figure size 720x504 with 2 Axes>"
      ]
     },
     "metadata": {
      "tags": []
     },
     "output_type": "display_data"
    }
   ],
   "source": [
    "# XGBoost Model\n",
    "model, y_pred = xgboost_classifier(X_train,y_train,X_test,y_test)\n",
    "print_confusion_matrix(y_test, y_pred)"
   ]
  },
  {
   "cell_type": "markdown",
   "metadata": {
    "colab_type": "text",
    "id": "FfcQvP9Gi6r9"
   },
   "source": [
    "## Undersampling the majority class"
   ]
  },
  {
   "cell_type": "code",
   "execution_count": 0,
   "metadata": {
    "colab": {},
    "colab_type": "code",
    "id": "F6aTVRZci6sH"
   },
   "outputs": [],
   "source": [
    "# Split dataset into training set and test set\n",
    "X_train, X_test, y_train, y_test = train_test_split(train_values, train_labels['damage_grade'], test_size=0.3, random_state=10) # 70% training and 30% test\n",
    "X_train = X_train.drop(columns = 'building_id')\n",
    "X_test  = X_test.drop (columns = 'building_id')\n",
    "\n",
    "X = pd.concat([X_train, y_train], axis=1)\n",
    "\n",
    "damage1 = X[X.damage_grade == 1]\n",
    "damage2 = X[X.damage_grade == 2]\n",
    "damage3 = X[X.damage_grade == 3]\n",
    "\n",
    "undersampled = resample(damage2,\n",
    "                        replace = False,\n",
    "                        n_samples = len(damage3),\n",
    "                        random_state = 25)\n",
    "\n",
    "X = pd.concat([damage1, undersampled, damage3])\n",
    "\n",
    "X_train = X.drop(['damage_grade'], axis=1)\n",
    "y_train = X.damage_grade"
   ]
  },
  {
   "cell_type": "code",
   "execution_count": 0,
   "metadata": {
    "colab": {},
    "colab_type": "code",
    "id": "MyUN7w2Ki6sP"
   },
   "outputs": [],
   "source": [
    "model, y_pred = xgboost_classifier(X_train, y_train, X_test, y_test)\n",
    "print_confusion_matrix(y_test, y_pred)\n",
    "\n",
    "# XGBoost Model Accuracy\n",
    "print(classification_report(y_test, y_pred))"
   ]
  },
  {
   "cell_type": "markdown",
   "metadata": {
    "colab_type": "text",
    "id": "XPAG_vY_i6sZ"
   },
   "source": [
    "## Oversampling the minority classes"
   ]
  },
  {
   "cell_type": "code",
   "execution_count": 0,
   "metadata": {
    "colab": {},
    "colab_type": "code",
    "id": "v5qKkkIVi6sb"
   },
   "outputs": [],
   "source": [
    "# Split dataset into training set and test set\n",
    "X_train, X_test, y_train, y_test = train_test_split(train_values, train_labels['damage_grade'], test_size=0.3, random_state=10) # 70% training and 30% test\n",
    "X_train = X_train.drop(columns = 'building_id')\n",
    "X_test  = X_test.drop (columns = 'building_id')\n",
    "\n",
    "X = pd.concat([X_train, y_train], axis=1)\n",
    "\n",
    "damage1 = X[X.damage_grade == 1]\n",
    "damage2 = X[X.damage_grade == 2]\n",
    "damage3 = X[X.damage_grade == 3]\n",
    "\n",
    "oversampled1 = resample(damage1,\n",
    "                        replace = True,\n",
    "                        n_samples = len(damage2),\n",
    "                        random_state = 25)\n",
    "\n",
    "oversampled3 = resample(damage3,\n",
    "                        replace = True,\n",
    "                        n_samples = len(damage2),\n",
    "                        random_state = 25)\n",
    "\n",
    "X = pd.concat([oversampled1, damage2, oversampled3])\n",
    "\n",
    "X_train = X.drop(['damage_grade'], axis=1)\n",
    "y_train = X.damage_grade"
   ]
  },
  {
   "cell_type": "code",
   "execution_count": 0,
   "metadata": {
    "colab": {},
    "colab_type": "code",
    "id": "acSdofY5i6sp"
   },
   "outputs": [],
   "source": [
    "model, y_pred = xgboost_classifier(X_train, y_train, X_test, y_test)\n",
    "print_confusion_matrix(y_test, y_pred)\n",
    "\n",
    "# XGBoost Model Accuracy\n",
    "print(classification_report(y_test, y_pred))"
   ]
  },
  {
   "cell_type": "markdown",
   "metadata": {
    "colab_type": "text",
    "id": "RjfnkxrPi6s4"
   },
   "source": [
    "## SMOTE"
   ]
  },
  {
   "cell_type": "code",
   "execution_count": 0,
   "metadata": {
    "colab": {},
    "colab_type": "code",
    "id": "y0iE18ywi6s6"
   },
   "outputs": [],
   "source": [
    "# Split dataset into training set and test set\n",
    "X_train, X_test, y_train, y_test = train_test_split(train_values, train_labels['damage_grade'], test_size=0.3, random_state=10) # 70% training and 30% test\n",
    "X_train = X_train.drop(columns = 'building_id')\n",
    "X_test  = X_test.drop (columns = 'building_id')\n",
    "\n",
    "smt = SMOTE()\n",
    "X_train1, y_train1 = smt.fit_sample(X_train, y_train)\n",
    "X_train = pd.DataFrame(X_train1, columns = X_train.columns)\n",
    "y_train = pd.Series(y_train1)"
   ]
  },
  {
   "cell_type": "code",
   "execution_count": 0,
   "metadata": {
    "colab": {},
    "colab_type": "code",
    "id": "omwG4pybi6tC",
    "scrolled": true
   },
   "outputs": [],
   "source": [
    "model, y_pred = xgboost_classifier(X_train, y_train, X_test, y_test)\n",
    "print_confusion_matrix(y_test, y_pred)\n",
    "\n",
    "# XGBoost Model Accuracy\n",
    "print(classification_report(y_test, y_pred))"
   ]
  },
  {
   "cell_type": "code",
   "execution_count": 0,
   "metadata": {
    "colab": {},
    "colab_type": "code",
    "id": "knSyz6ERi6tM"
   },
   "outputs": [],
   "source": [
    "from sklearn.ensemble import RandomForestClassifier\n",
    "\n",
    "clf=RandomForestClassifier(n_estimators=100)\n",
    "\n",
    "clf.fit(X_train, y_train)\n",
    "y_pred = clf.predict(X_test)\n",
    "\n",
    "# Model Accuracy\n",
    "print(\"Accuracy of Random Forest: \",clf.score(X_test, y_test))"
   ]
  },
  {
   "cell_type": "markdown",
   "metadata": {
    "colab_type": "text",
    "id": "RnvcP0B8i6tZ"
   },
   "source": [
    "## ADASYN"
   ]
  },
  {
   "cell_type": "code",
   "execution_count": 0,
   "metadata": {
    "colab": {},
    "colab_type": "code",
    "id": "_E6nDn26i6ta"
   },
   "outputs": [],
   "source": [
    "# Split dataset into training set and test set\n",
    "X_train, X_test, y_train, y_test = train_test_split(train_values, train_labels['damage_grade'], test_size=0.3, random_state=10) # 70% training and 30% test\n",
    "X_train = X_train.drop(columns = 'building_id')\n",
    "X_test  = X_test.drop (columns = 'building_id')\n",
    "\n",
    "asyn = ADASYN()\n",
    "X_train1, y_train1 = asyn.fit_sample(X_train, y_train)\n",
    "X_train = pd.DataFrame(X_train1, columns = X_train.columns)\n",
    "y_train = pd.Series(y_train1)"
   ]
  },
  {
   "cell_type": "code",
   "execution_count": 0,
   "metadata": {
    "colab": {},
    "colab_type": "code",
    "id": "I3HEFlQ8i6to"
   },
   "outputs": [],
   "source": [
    "model, y_pred = xgboost_classifier(X_train, y_train, X_test, y_test)\n",
    "print_confusion_matrix(y_test, y_pred)\n",
    "\n",
    "# XGBoost Model Accuracy\n",
    "print(classification_report(y_test, y_pred))"
   ]
  },
  {
   "cell_type": "code",
   "execution_count": 0,
   "metadata": {
    "colab": {},
    "colab_type": "code",
    "id": "NdT8xtzLi6tu"
   },
   "outputs": [],
   "source": [
    "from sklearn.ensemble import RandomForestClassifier\n",
    "\n",
    "clf=RandomForestClassifier(n_estimators=300)\n",
    "\n",
    "clf.fit(X_train, y_train)\n",
    "y_pred = clf.predict(X_test)\n",
    "\n",
    "# Model Accuracy\n",
    "print(classification_report(y_test, y_pred))"
   ]
  }
 ],
 "metadata": {
  "colab": {
   "name": "Implementation_of_Models.ipynb",
   "provenance": [],
   "toc_visible": true
  },
  "kernelspec": {
   "display_name": "Python 3",
   "language": "python",
   "name": "python3"
  },
  "language_info": {
   "codemirror_mode": {
    "name": "ipython",
    "version": 3
   },
   "file_extension": ".py",
   "mimetype": "text/x-python",
   "name": "python",
   "nbconvert_exporter": "python",
   "pygments_lexer": "ipython3",
   "version": "3.5.2"
  }
 },
 "nbformat": 4,
 "nbformat_minor": 1
}
