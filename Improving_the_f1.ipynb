{
  "nbformat": 4,
  "nbformat_minor": 0,
  "metadata": {
    "kernelspec": {
      "name": "python3",
      "display_name": "Python 3"
    },
    "language_info": {
      "codemirror_mode": {
        "name": "ipython",
        "version": 3
      },
      "file_extension": ".py",
      "mimetype": "text/x-python",
      "name": "python",
      "nbconvert_exporter": "python",
      "pygments_lexer": "ipython3",
      "version": "3.6.8"
    },
    "colab": {
      "name": "Improving_the_f1.ipynb",
      "provenance": [],
      "toc_visible": true
    },
    "accelerator": "GPU"
  },
  "cells": [
    {
      "cell_type": "code",
      "metadata": {
        "id": "bwhJyjX7Ckx4",
        "colab_type": "code",
        "colab": {
          "base_uri": "https://localhost:8080/",
          "height": 154
        },
        "outputId": "9cce006f-b13d-48b6-dd9a-1d980e191cc9"
      },
      "source": [
        "# to run the code on google colab, uncomment the following lines\n",
        "!git clone https://github.com/reddybhargava/data_analytics_project-1.git\n",
        "%cd /content/data_analytics_project-1"
      ],
      "execution_count": 1,
      "outputs": [
        {
          "output_type": "stream",
          "text": [
            "Cloning into 'data_analytics_project-1'...\n",
            "remote: Enumerating objects: 131, done.\u001b[K\n",
            "remote: Counting objects: 100% (131/131), done.\u001b[K\n",
            "remote: Compressing objects: 100% (96/96), done.\u001b[K\n",
            "remote: Total 131 (delta 53), reused 101 (delta 33), pack-reused 0\u001b[K\n",
            "Receiving objects: 100% (131/131), 14.99 MiB | 3.85 MiB/s, done.\n",
            "Resolving deltas: 100% (53/53), done.\n",
            "/content/data_analytics_project-1\n"
          ],
          "name": "stdout"
        }
      ]
    },
    {
      "cell_type": "code",
      "metadata": {
        "id": "WP5fuHUMCUyo",
        "colab_type": "code",
        "colab": {}
      },
      "source": [
        "import numpy as np \n",
        "import pandas as pd\n",
        "import matplotlib.pyplot as plt\n",
        "import seaborn as sns\n",
        "from sklearn.model_selection import train_test_split\n",
        "from sklearn.utils import resample\n",
        "from sklearn.metrics import classification_report\n",
        "from sklearn.metrics import f1_score\n",
        "from imblearn.over_sampling import SMOTE\n",
        "from imblearn.over_sampling import ADASYN\n",
        "from functions import print_confusion_matrix\n",
        "from functions import xgboost_classifier \n",
        "from sklearn.preprocessing import StandardScaler\n",
        "\n",
        "%matplotlib inline"
      ],
      "execution_count": 0,
      "outputs": []
    },
    {
      "cell_type": "code",
      "metadata": {
        "id": "VkxbEtMUCUyt",
        "colab_type": "code",
        "colab": {}
      },
      "source": [
        "path = '/content/data_analytics_project-1/dataset_modified/'\n",
        "\n",
        "train_values = pd.read_csv(path + 'train_values.csv')\n",
        "train_labels = pd.read_csv(path + 'train_labels.csv')\n",
        "test_values = pd.read_csv(path + 'test_values.csv')"
      ],
      "execution_count": 0,
      "outputs": []
    },
    {
      "cell_type": "code",
      "metadata": {
        "id": "YbhHTx0fCUyv",
        "colab_type": "code",
        "colab": {}
      },
      "source": [
        "# Train and test split\n",
        "X_train, X_test, y_train, y_test = train_test_split(\n",
        "                                        train_values, train_labels['damage_grade'], \n",
        "                                        test_size=0.3, random_state=10\n",
        "                                    )\n",
        "X_train = X_train.drop(columns = 'building_id')\n",
        "X_test = X_test.drop (columns = 'building_id')"
      ],
      "execution_count": 0,
      "outputs": []
    },
    {
      "cell_type": "code",
      "metadata": {
        "id": "-yrOCi2QCUy5",
        "colab_type": "code",
        "colab": {
          "base_uri": "https://localhost:8080/",
          "height": 34
        },
        "outputId": "7b9c3617-c66e-452b-bc22-4293678396d4"
      },
      "source": [
        "model, y_pred = xgboost_classifier(X_train, y_train, X_test, y_test)"
      ],
      "execution_count": 5,
      "outputs": [
        {
          "output_type": "stream",
          "text": [
            "Accuracy of XGBoostClassifier: 0.7444775584860772\n"
          ],
          "name": "stdout"
        }
      ]
    },
    {
      "cell_type": "markdown",
      "metadata": {
        "id": "OMm2f7NACUy-",
        "colab_type": "text"
      },
      "source": [
        "## Log transformation"
      ]
    },
    {
      "cell_type": "code",
      "metadata": {
        "id": "vv2UnAqsCUy_",
        "colab_type": "code",
        "colab": {
          "base_uri": "https://localhost:8080/",
          "height": 71
        },
        "outputId": "b695541d-5bf7-4213-9f68-eaec05980673"
      },
      "source": [
        "lg_X_train = X_train\n",
        "lg_X_test = X_test\n",
        "\n",
        "lg_X_train['age'] = np.log(lg_X_train['age'])\n",
        "lg_X_test['age'] = np.log(lg_X_test['age'])"
      ],
      "execution_count": 9,
      "outputs": [
        {
          "output_type": "stream",
          "text": [
            "/usr/local/lib/python3.6/dist-packages/pandas/core/series.py:856: RuntimeWarning: invalid value encountered in log\n",
            "  result = getattr(ufunc, method)(*inputs, **kwargs)\n"
          ],
          "name": "stderr"
        }
      ]
    },
    {
      "cell_type": "code",
      "metadata": {
        "id": "SIMzgzLICUzB",
        "colab_type": "code",
        "colab": {
          "base_uri": "https://localhost:8080/",
          "height": 34
        },
        "outputId": "b92a33f1-9180-43b2-aebf-930a93387b90"
      },
      "source": [
        "model, y_pred = xgboost_classifier(lg_X_train, y_train, lg_X_test, y_test)"
      ],
      "execution_count": 10,
      "outputs": [
        {
          "output_type": "stream",
          "text": [
            "Accuracy of XGBoostClassifier: 0.7437740627518195\n"
          ],
          "name": "stdout"
        }
      ]
    },
    {
      "cell_type": "markdown",
      "metadata": {
        "id": "sKPCNpzgCUzG",
        "colab_type": "text"
      },
      "source": [
        "## Without dropping building_id"
      ]
    },
    {
      "cell_type": "code",
      "metadata": {
        "id": "TV-SFiWuCUzH",
        "colab_type": "code",
        "colab": {}
      },
      "source": [
        "X_train, X_test, y_train, y_test = train_test_split(\n",
        "                                        train_values, train_labels['damage_grade'], \n",
        "                                        test_size=0.3, random_state=10\n",
        "                                    )"
      ],
      "execution_count": 0,
      "outputs": []
    },
    {
      "cell_type": "code",
      "metadata": {
        "id": "L7fl5QUtCUzJ",
        "colab_type": "code",
        "colab": {
          "base_uri": "https://localhost:8080/",
          "height": 34
        },
        "outputId": "dd099840-7756-4749-d08b-1bd01961bee3"
      },
      "source": [
        "model, y_pred = xgboost_classifier(X_train, y_train, X_test, y_test)"
      ],
      "execution_count": 12,
      "outputs": [
        {
          "output_type": "stream",
          "text": [
            "Accuracy of XGBoostClassifier: 0.7392972717156342\n"
          ],
          "name": "stdout"
        }
      ]
    },
    {
      "cell_type": "markdown",
      "metadata": {
        "id": "plQuM8XqCUz7",
        "colab_type": "text"
      },
      "source": [
        "## Normalizing the numeric columns"
      ]
    },
    {
      "cell_type": "code",
      "metadata": {
        "id": "DH3n-zP6Ixoo",
        "colab_type": "code",
        "colab": {}
      },
      "source": [
        "scalar = StandardScaler()\n",
        "norm_X_train = scalar.fit_transform(X_train)\n",
        "norm_X_test = scalar.transform(X_test)"
      ],
      "execution_count": 0,
      "outputs": []
    },
    {
      "cell_type": "code",
      "metadata": {
        "id": "3khnd-UQKp5w",
        "colab_type": "code",
        "colab": {
          "base_uri": "https://localhost:8080/",
          "height": 34
        },
        "outputId": "ecea0ada-ea3c-46f7-e89f-00f31aeb78e5"
      },
      "source": [
        "model, y_pred = xgboost_classifier(norm_X_train, y_train, norm_X_test, y_test)"
      ],
      "execution_count": 19,
      "outputs": [
        {
          "output_type": "stream",
          "text": [
            "Accuracy of XGBoostClassifier: 0.7397577416507847\n"
          ],
          "name": "stdout"
        }
      ]
    },
    {
      "cell_type": "markdown",
      "metadata": {
        "id": "GExvLZPzLfZ-",
        "colab_type": "text"
      },
      "source": [
        "## One Hot Encoding"
      ]
    },
    {
      "cell_type": "code",
      "metadata": {
        "id": "atZMD0rXLlsc",
        "colab_type": "code",
        "colab": {}
      },
      "source": [
        "path = '/content/data_analytics_project-1/dataset/'\n",
        "train_values = pd.read_csv(path + 'train_values.csv')\n",
        "train_labels = pd.read_csv(path + 'train_labels.csv')"
      ],
      "execution_count": 0,
      "outputs": []
    },
    {
      "cell_type": "code",
      "metadata": {
        "id": "Jh2C5SDXL8gx",
        "colab_type": "code",
        "colab": {}
      },
      "source": [
        "train_values_new = pd.get_dummies(train_values)"
      ],
      "execution_count": 0,
      "outputs": []
    },
    {
      "cell_type": "code",
      "metadata": {
        "id": "DsfQUuxzMqlN",
        "colab_type": "code",
        "colab": {}
      },
      "source": [
        "X_train, X_test, y_train, y_test = train_test_split(\n",
        "                                        train_values_new, train_labels['damage_grade'], \n",
        "                                        test_size=0.3, random_state=10\n",
        "                                    )"
      ],
      "execution_count": 0,
      "outputs": []
    },
    {
      "cell_type": "code",
      "metadata": {
        "id": "29DzlbEdMJN_",
        "colab_type": "code",
        "colab": {
          "base_uri": "https://localhost:8080/",
          "height": 34
        },
        "outputId": "07721dd9-226f-4d20-b9ee-ae7c818e9f11"
      },
      "source": [
        "model, y_pred = xgboost_classifier(X_train, y_train, X_test, y_test)"
      ],
      "execution_count": 25,
      "outputs": [
        {
          "output_type": "stream",
          "text": [
            "Accuracy of XGBoostClassifier: 0.7398216958084445\n"
          ],
          "name": "stdout"
        }
      ]
    }
  ]
}